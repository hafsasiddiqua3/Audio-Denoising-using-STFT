{
  "nbformat": 4,
  "nbformat_minor": 0,
  "metadata": {
    "colab": {
      "provenance": []
    },
    "kernelspec": {
      "name": "python3",
      "display_name": "Python 3"
    },
    "language_info": {
      "name": "python"
    }
  },
  "cells": [
    {
      "cell_type": "code",
      "execution_count": null,
      "metadata": {
        "id": "cX7rQh42a1hU"
      },
      "outputs": [],
      "source": [
        "import matplotlib.pyplot as plt\n",
        "import numpy as np\n",
        "import IPython.display as ipd\n",
        "import librosa\n",
        "import librosa.display\n",
        "import soundfile as sf\n",
        "\n",
        "# Load original audio\n",
        "audio_path = \"/content/Q2 (3).wav\"\n",
        "audio, sr = librosa.load(audio_path)\n",
        "\n",
        "print(\"Sample rate:\", sr)\n",
        "print(\"Duration of the signal in seconds: {:.2f}\".format(len(audio)/sr))\n",
        "ipd.Audio(audio_path)\n",
        "\n",
        "# Compute the spectrogram of the original audio\n",
        "original_X = librosa.stft(audio)\n",
        "magnitude_original = np.abs(original_X)\n",
        "phase_original = np.angle(original_X)\n",
        "\n",
        "# Load noise audio\n",
        "noise_path = \"/content/Q2-Noise (2).wav\"\n",
        "noise, sr = librosa.load(noise_path)\n",
        "\n",
        "print(\"Sample rate:\", sr)\n",
        "print(\"Duration of the noise signal in seconds: {:.2f}\".format(len(noise)/sr))\n",
        "ipd.Audio(noise_path)\n",
        "\n",
        "# Ensure the length of the noise signal matches the original audio\n",
        "if len(noise) < len(audio):\n",
        "    noise = np.pad(noise, (0, len(audio) - len(noise)))\n",
        "else:\n",
        "    noise = noise[:len(audio)]\n",
        "\n",
        "# Compute the spectrogram of the noise audio\n",
        "X_noise = librosa.stft(noise)\n",
        "magnitude_noise = np.abs(X_noise)\n",
        "phase_noise = np.angle(X_noise)\n",
        "\n",
        "# Calculate the mean noise profile\n",
        "alpha = 2  # Adjust alpha based on experimentation\n",
        "noise_profile = alpha * np.mean(magnitude_noise, axis=1)\n",
        "\n",
        "# Tile the mean noise array along the time axis to match dimensions\n",
        "denoised_audio = magnitude_original - noise_profile[:, np.newaxis]\n",
        "denoised_audio[denoised_audio < 0] = 0\n",
        "\n",
        "# Multiply the modified audio by the complex exponential of the phase\n",
        "denoised_audio_with_phase = denoised_audio * np.exp(1.0j * phase_original)\n",
        "\n",
        "# Inverse Short-Time Fourier Transform (ISTFT) to reconstruct the audio\n",
        "denoised_audio_time = librosa.istft(denoised_audio_with_phase)\n",
        "\n",
        "# Save the denoised audio to a WAV file\n",
        "sf.write(\"/content/denoised.wav\", denoised_audio_time, sr)\n",
        "\n",
        "# Load the denoised audio\n",
        "denoised, sr = librosa.load(\"/content/denoised.wav\")\n",
        "\n",
        "# Play the denoised audio\n",
        "ipd.Audio(denoised, rate=sr)\n"
      ]
    }
  ]
}